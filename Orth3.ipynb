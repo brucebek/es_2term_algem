{
 "cells": [
  {
   "cell_type": "markdown",
   "metadata": {},
   "source": [
    "# Задание по лекциям 3.\n",
    "\n",
    "- Не нужно использовать эффективные вычислительные алгоритмы. Нужно использовать те алгоритмы, что были представлены на лекции или практических занятиях. \n",
    "- Остальное как обычно: за \"похожие\" решения всем задействованным 0 баллов; если используете решение из открытого источника — обязательно вставьте ссылку; не удаляйте формулировки; не выкладывайте в открытый источник.\n",
    "- Можно использовать `numpy.array` для матриц и матричной арифметики и `numpy.linalg` для подсчёта ранга и определителя, для вычисления обратной матрицы, решения СЛУ и т.п. То есть то, что вы уже реализовывали в прошлом семестре, ещё раз реализовывать необязательно. Более того, можно использовать в любом из *заданий по лекциям* функции, реализованные ранее в других *заданиях по лекциям*. Если возникнут сомнения, можно ли использовать ту или иную функцию — лучше сразу поинтересуйтесь у меня."
   ]
  },
  {
   "cell_type": "code",
   "execution_count": 2,
   "metadata": {},
   "outputs": [],
   "source": [
    "import numpy as np"
   ]
  },
  {
   "cell_type": "markdown",
   "metadata": {},
   "source": [
    "**(17 баллов)** По заданным \n",
    "\n",
    "- симметрической матрице $A$ размера $3\\times 3$\n",
    "- вектор-строке $b$ длины $3$\n",
    "- коэффициенту $c_0$\n",
    "\n",
    "вывести тип поверхности второго порядка, заданной уравнением\n",
    "$$x^T A x + 2b x + c_0 = 0.$$\n",
    "\n",
    "Кроме этого, вывести каноническую ортогональную систему координат (начало координат и базис)."
   ]
  },
  {
   "cell_type": "markdown",
   "metadata": {},
   "source": [
    "Использую метод определения типа поверхности второго порядка из этого источника:<br/>\n",
    "<a href=\"http://mathhelpplanet.com/static.php?p=klassifikatsiya-poverhnostyey-po-invariantam\">Классификация поверхностей второго порядка по инвариантам</a>"
   ]
  },
  {
   "cell_type": "code",
   "execution_count": 45,
   "metadata": {},
   "outputs": [
    {
     "name": "stdout",
     "output_type": "stream",
     "text": [
      "Эллиптический параболоид\n",
      "Параболический цилиндр\n",
      "Однополостный гиперболоид\n"
     ]
    }
   ],
   "source": [
    "from numpy.linalg import det, eigvalsh, matrix_rank\n",
    "\n",
    "def del_rc(A, n):\n",
    "    return np.delete(np.delete(A, 2, 0), 2, 1)\n",
    "\n",
    "def type_surface(A, b, c):\n",
    "    eigv = eigvalsh(A)\n",
    "    tau1 = eigv.sum()\n",
    "    tau2 = eigv[0] * eigv[1] + eigv[0] * eigv[2] + eigv[1] * eigv[2]\n",
    "    delta = eigv.prod()\n",
    "    ext_A = np.c_[A, b]\n",
    "    ext_A = np.r_[ext_A, [np.append(b, c)]]\n",
    "    d = det(ext_A)\n",
    "    \n",
    "    if delta != 0:\n",
    "        if tau2 > 0 and tau1 * delta > 0:\n",
    "            if d < 0:\n",
    "                return \"Эллипсоид\"\n",
    "            elif d == 0:\n",
    "                return \"Мнимый конус\"\n",
    "            else:\n",
    "                return \"Мнимый эллипсоид\"\n",
    "        if tau2 <= 0 or tau1 * delta <= 0:\n",
    "            if d < 0:\n",
    "                return \"Двуполостный гиперболоид\"\n",
    "            elif d == 0:\n",
    "                return \"Конус\"\n",
    "            else:\n",
    "                return \"Однополостный гиперболоид\"\n",
    "    else:\n",
    "        k1 = det(ext_A[::3, ::3]) + det(ext_A[1::2, 1::2]) + det(ext_A[2:, 2:])\n",
    "        k2 = det(del_rc(ext_A, 2)) + det(del_rc(ext_A, 1)) + det(del_rc(ext_A, 0))\n",
    "        if d < 0:\n",
    "            return \"Эллиптический параболоид\"\n",
    "        elif d == 0:\n",
    "            if tau2 < 0:\n",
    "                if k2 != 0:\n",
    "                    return \"Гиперболический цилиндр\"\n",
    "                else:\n",
    "                    return \"Пара пересекающихся плоскостей\"\n",
    "            elif tau2 == 0:\n",
    "                if k2 != 0:\n",
    "                    return \"Параболический цилиндр\"\n",
    "                else:\n",
    "                    if k1 < 0:\n",
    "                        return \"Пара параллельных плоскостей\"\n",
    "                    elif k1 == 0:\n",
    "                        return \"Пара совпадающих плоскостей\"\n",
    "                    else:\n",
    "                        return \"Пара мнимых параллельных плоскостей\"\n",
    "            else:\n",
    "                if tau1 * k2 < 0:\n",
    "                    return \"Эллиптический цилиндр\"\n",
    "                elif tau1 * k2 > 0:\n",
    "                    return \"Мнимый эллиптический цилиндр\"\n",
    "                elif k2 == 0:\n",
    "                    return \"Пара мнимых пересекающихся плоскостей\"\n",
    "        else:\n",
    "            return \"Гиперболический параболоид\"\n",
    "\n",
    "\n",
    "A = np.array([[1, 0, 0], \n",
    "              [0, 1, 0], \n",
    "              [0, 0, 0]])\n",
    "\n",
    "b = np.array([1, -2, 1])\n",
    "c = 1\n",
    "print(type_surface(A, b, c))\n",
    "\n",
    "A = np.array([[1, 0, 0], \n",
    "              [0, 0, 0], \n",
    "              [0, 0, 0]])\n",
    "\n",
    "b = np.array([0, 3, -4])\n",
    "c = 10\n",
    "print(type_surface(A, b, c))\n",
    "\n",
    "A = np.array([[3, 4, -4], \n",
    "              [4, -7, -4], \n",
    "              [-4, -4, 3]])\n",
    "\n",
    "b = np.array([5, -7, -3])\n",
    "c = -8\n",
    "print(type_surface(A, b, c))"
   ]
  },
  {
   "cell_type": "code",
   "execution_count": null,
   "metadata": {},
   "outputs": [],
   "source": []
  }
 ],
 "metadata": {
  "celltoolbar": "Create Assignment",
  "kernelspec": {
   "display_name": "Python 3",
   "language": "python",
   "name": "python3"
  },
  "language_info": {
   "codemirror_mode": {
    "name": "ipython",
    "version": 3
   },
   "file_extension": ".py",
   "mimetype": "text/x-python",
   "name": "python",
   "nbconvert_exporter": "python",
   "pygments_lexer": "ipython3",
   "version": "3.8.5"
  },
  "toc": {
   "base_numbering": 1,
   "nav_menu": {},
   "number_sections": true,
   "sideBar": true,
   "skip_h1_title": false,
   "title_cell": "Table of Contents",
   "title_sidebar": "Contents",
   "toc_cell": false,
   "toc_position": {},
   "toc_section_display": true,
   "toc_window_display": false
  }
 },
 "nbformat": 4,
 "nbformat_minor": 4
}
