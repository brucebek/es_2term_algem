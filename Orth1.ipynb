{
 "cells": [
  {
   "cell_type": "markdown",
   "metadata": {},
   "source": [
    "# Задание по лекциям 1.\n",
    "\n",
    "- Не нужно использовать эффективные вычислительные алгоритмы. Нужно использовать те алгоритмы, что были представлены на лекции или практических занятиях. \n",
    "- Остальное как обычно: за \"похожие\" решения всем задействованным 0 баллов; если используете решение из открытого источника — обязательно вставьте ссылку; не удаляйте формулировки; не выкладывайте в открытый источник.\n",
    "- Можно использовать `numpy.array` для матриц и матричной арифметики и `numpy.linalg` для подсчёта ранга и определителя, для вычисления обратной матрицы, решения СЛУ и т.п. То есть то, что вы уже реализовывали в прошлом семестре, ещё раз реализовывать необязательно. Более того, можно использовать в любом из *заданий по лекциям* функции, реализованные ранее в других *заданиях по лекциям*. Если возникнут сомнения, можно ли использовать ту или иную функцию — лучше сразу поинтересуйтесь у меня."
   ]
  },
  {
   "cell_type": "markdown",
   "metadata": {},
   "source": [
    "$\\mathbb{R}^n$ — вещественнозначное пространство вектор-**столбцов**."
   ]
  },
  {
   "cell_type": "markdown",
   "metadata": {},
   "source": [
    "**(1 балл) Задание 1.** Реализовать функцию, принимающую на вход два набора \n",
    "$$\n",
    "u = (u_1, \\ldots, u_n),\\ v = (v_1,\\ldots,v_n)\n",
    "$$\n",
    "координат векторов (в стандартном базисе) из пространства $\\mathbb{R}^n$, и выдающую \n",
    "- матрицу перехода от базиса $u$ к базису $v$, если оба этих набора являются базисами;\n",
    "- None, иначе (альтернативный вариант — кидать исключение)."
   ]
  },
  {
   "cell_type": "code",
   "execution_count": 16,
   "metadata": {},
   "outputs": [
    {
     "name": "stdout",
     "output_type": "stream",
     "text": [
      "True\n",
      "None\n"
     ]
    }
   ],
   "source": [
    "import numpy as np\n",
    "\n",
    "def transform_mx(u, v):\n",
    "    if np.linalg.det(u) and np.linalg.det(v):\n",
    "        return np.linalg.inv(u) @ v\n",
    "\n",
    "    \n",
    "u = np.array([[1, 2, 3], \n",
    "              [2, 3, 7], \n",
    "              [1, 3, 1]])\n",
    "\n",
    "v = np.array([[3, 1, 4], \n",
    "              [5, 2, 1], \n",
    "              [1, 1, -6]])\n",
    "\n",
    "t = transform_mx(u, v)\n",
    "print(np.allclose(u @ t, v)) # Проверка\n",
    "\n",
    "u = np.array([[1, 2, 3], [2, 4, 6], [1, 3, 1]])\n",
    "print(transform_mx(u, v)) # Набор векторов U не является базисом\n",
    "\n",
    "a = np.array([[8,-6,7],[-16,7,-13],[9,-3,7]])\n",
    "b = np.array([[1,-2,1],[3,-1,2],[2,1,2]])\n"
   ]
  },
  {
   "cell_type": "markdown",
   "metadata": {},
   "source": [
    "**(1 балл) Задание 2.** Реализовать функцию, принимающую на вход матрицу $A$ линейного оператора $\\varphi: \\mathbb{R}^n \\to \\mathbb{R}^n$ (в стандартном базисе) и набор координат $u = (u_1,\\ldots,u_n)$ вектор-столбцов, и выдающую \n",
    "- матрицу оператора $\\varphi$ в базисе $u$, если $u$ является базисом;\n",
    "- None, иначе (альтернативный вариант — кидать исключение)."
   ]
  },
  {
   "cell_type": "code",
   "execution_count": 9,
   "metadata": {
    "scrolled": true
   },
   "outputs": [
    {
     "name": "stdout",
     "output_type": "stream",
     "text": [
      "[[ 1.  0.  2.  1.]\n",
      " [ 2.  3.  5.  1.]\n",
      " [ 3. -1.  0.  2.]\n",
      " [ 1.  1.  2.  3.]]\n"
     ]
    }
   ],
   "source": [
    "def mx_operator(A, u):\n",
    "    if(np.linalg.det(u)):\n",
    "        return np.linalg.inv(u) @ A @ u\n",
    "\n",
    "A = np.array([[1, 2, 0, 1], \n",
    "              [3, 0, -1, 2], \n",
    "              [2, 5, 3, 1], \n",
    "              [1, 2, 1, 3]]) # Проскуряков 1452 a)\n",
    "\n",
    "u = np.array([[1, 0, 0, 0], \n",
    "              [0, 0, 1, 0], \n",
    "              [0, 1, 0, 0], \n",
    "              [0, 0, 0, 1]])\n",
    "\n",
    "print(mx_operator(A, u))"
   ]
  },
  {
   "cell_type": "markdown",
   "metadata": {},
   "source": [
    "**(1.5 балла) Задание 3.** Реализовать функции, которые по данной матрице $A$ линейного оператора $\\varphi: \\mathbb{R}^n \\to \\mathbb{R}^n$ в стандартном базисе, выдадут:\n",
    "\n",
    "- базис образа $\\varphi$ (0.5 балла)\n",
    "- базис ядра $\\varphi$ (0.75 балла)\n",
    "- размерности ядра и образа $\\varphi$ (0.25 балла)"
   ]
  },
  {
   "cell_type": "markdown",
   "metadata": {},
   "source": [
    "Использую два алгоритма(стр. 7) из этого источника http://kadm.kmath.ru/files/linalg16.pdf\n",
    "А также тест с последнего слайда"
   ]
  },
  {
   "cell_type": "code",
   "execution_count": 12,
   "metadata": {
    "scrolled": true
   },
   "outputs": [
    {
     "name": "stdout",
     "output_type": "stream",
     "text": [
      "[[2 0]\n",
      " [1 5]\n",
      " [-1 5]\n",
      " [1 1]]\n",
      "[[0 1]\n",
      " [1 0]\n",
      " [0 1]\n",
      " [0 1]]\n",
      "(2, 2)\n"
     ]
    }
   ],
   "source": [
    "import sympy as sp\n",
    "\n",
    "def basis_im(A):\n",
    "    vs = np.array(sp.Matrix(A.T).echelon_form().T)\n",
    "    vs = vs[:, np.any(vs != 0, axis=0)]\n",
    "    return vs\n",
    "        \n",
    "\n",
    "def basis_ker(A):\n",
    "    space = sp.Matrix(A).nullspace()\n",
    "    if space:\n",
    "        basis = sp.Matrix()\n",
    "        for v in space:\n",
    "            basis = basis.col_insert(sp.shape(v)[1], v)\n",
    "        return np.array(basis)\n",
    "    \n",
    "    return np.zeros((A.shape[0], 1))\n",
    "\n",
    "def dimension_ker_im(A):\n",
    "    ker = basis_ker(A)\n",
    "    im = basis_ker(A)\n",
    "    return ker.shape[1], im.shape[1]\n",
    "\n",
    "A = np.array([[2, 0, 1, -3], \n",
    "              [1, 0, 3, -4], \n",
    "              [-1, 0, 2, -1], \n",
    "              [1, 0, 1, -2]])\n",
    "print(basis_im(A))\n",
    "print(basis_ker(A))\n",
    "print(dimension_ker_im(A))"
   ]
  },
  {
   "cell_type": "markdown",
   "metadata": {},
   "source": [
    "**(1 балл) Задание 4.** Реализовать функцию, принимающую на вход матрицу $A$ линейного оператора $\\varphi: \\mathbb{R}^n \\to \\mathbb{R}^n$ (в стандартном базисе) и набор координат $u = (u_1,\\ldots,u_k),\\ k\\le n$ вектор-столбцов, и выдающую \n",
    "- True, если линейная оболочка векторов $(u_1,\\ldots, u_k)$ является $\\varphi$-инвариантным подпространством.\n",
    "- False, иначе."
   ]
  },
  {
   "cell_type": "code",
   "execution_count": 17,
   "metadata": {},
   "outputs": [
    {
     "name": "stdout",
     "output_type": "stream",
     "text": [
      "True\n",
      "False\n"
     ]
    }
   ],
   "source": [
    "def is_invariant(A, U):\n",
    "    k_col = U.shape[1]\n",
    "    for i in range(k_col):\n",
    "        B = A @ U[:, i]\n",
    "        rank_U = np.linalg.matrix_rank(U)\n",
    "        UB = np.c_[U, B]\n",
    "        rank_UB = np.linalg.matrix_rank(UB)\n",
    "        if rank_U != rank_UB:\n",
    "            return False\n",
    "        \n",
    "    return True\n",
    "\n",
    "A = np.array([[1, 0, 0], \n",
    "              [0, 0, 0], \n",
    "              [0, 0, 0]])\n",
    "\n",
    "U = np.array([[1, 2, 1], \n",
    "              [2, 4, 0], \n",
    "              [3, 6, 0]])\n",
    "\n",
    "print(is_invariant(A, U))\n",
    "# any v from L(U), Av in L(U), bcoz v = (a, b, c).T, Av = (a, 0, 0).T and (1, 0, 0) in U \n",
    "\n",
    "A = np.array([[1, 0, 0], \n",
    "              [1, 0, 0], \n",
    "              [1, 0, 0]])\n",
    "\n",
    "U = np.array([[1, 1], \n",
    "              [0, 2], \n",
    "              [0, 3]])\n",
    "print(is_invariant(A, U))\n",
    "# exist v = (1, 2, 3).T from L(U), Av not in L(U), bcoz Av = (1, 1, 1).T and does not exist x1, x2: x1 * u_1 + x2 * u_2 = (a, a, a).T  "
   ]
  }
 ],
 "metadata": {
  "celltoolbar": "Create Assignment",
  "kernelspec": {
   "display_name": "Python 3",
   "language": "python",
   "name": "python3"
  },
  "language_info": {
   "codemirror_mode": {
    "name": "ipython",
    "version": 3
   },
   "file_extension": ".py",
   "mimetype": "text/x-python",
   "name": "python",
   "nbconvert_exporter": "python",
   "pygments_lexer": "ipython3",
   "version": "3.8.5"
  },
  "toc": {
   "base_numbering": 1,
   "nav_menu": {},
   "number_sections": true,
   "sideBar": true,
   "skip_h1_title": false,
   "title_cell": "Table of Contents",
   "title_sidebar": "Contents",
   "toc_cell": false,
   "toc_position": {},
   "toc_section_display": true,
   "toc_window_display": false
  }
 },
 "nbformat": 4,
 "nbformat_minor": 4
}
