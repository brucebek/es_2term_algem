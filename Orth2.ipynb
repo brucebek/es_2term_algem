{
 "cells": [
  {
   "cell_type": "markdown",
   "metadata": {},
   "source": [
    "# Задание по лекциям 2.\n",
    "\n",
    "- Не нужно использовать эффективные вычислительные алгоритмы. Нужно использовать те алгоритмы, что были представлены на лекции или практических занятиях. \n",
    "- Остальное как обычно: за \"похожие\" решения всем задействованным 0 баллов; если используете решение из открытого источника — обязательно вставьте ссылку; не удаляйте формулировки; не выкладывайте в открытый источник.\n",
    "- Можно использовать `numpy.array` для матриц и матричной арифметики и `numpy.linalg` для подсчёта ранга и определителя, для вычисления обратной матрицы, решения СЛУ и т.п. То есть то, что вы уже реализовывали в прошлом семестре, ещё раз реализовывать необязательно. Более того, можно использовать в любом из *заданий по лекциям* функции, реализованные ранее в других *заданиях по лекциям*. Если возникнут сомнения, можно ли использовать ту или иную функцию — лучше сразу поинтересуйтесь у меня."
   ]
  },
  {
   "cell_type": "code",
   "execution_count": 2,
   "metadata": {},
   "outputs": [],
   "source": [
    "import numpy as np\n",
    "import sympy as sp"
   ]
  },
  {
   "cell_type": "markdown",
   "metadata": {},
   "source": [
    "$\\mathbb{R}^n$ — вещественнозначное пространство вектор-**столбцов** со стандартным скалярным произведением."
   ]
  },
  {
   "cell_type": "markdown",
   "metadata": {},
   "source": [
    "**(1 балл) Задание 5.** Реализовать функцию, принимающую на вход набор координат $u = (u_1,\\ldots,u_k),\\ k\\le n$ вектор-столбцов, и выдающую базис $$v = (v_1,\\ldots,v_m),\\ m \\ge n-k,$$\n",
    "ортогонального дополнения  для линейной оболочки данных векторов."
   ]
  },
  {
   "cell_type": "code",
   "execution_count": 9,
   "metadata": {},
   "outputs": [
    {
     "name": "stdout",
     "output_type": "stream",
     "text": [
      "[[-1.]\n",
      " [ 1.]]\n",
      "[[0.]\n",
      " [0.]]\n",
      "[[0.]\n",
      " [0.]\n",
      " [1.]]\n"
     ]
    }
   ],
   "source": [
    "def basis_orth_comp(U):\n",
    "    space = sp.Matrix(U.T).nullspace()\n",
    "    if space:\n",
    "        basis = sp.Matrix()\n",
    "        for v in sp.Matrix(U.T).nullspace():\n",
    "            basis = basis.col_insert(sp.shape(U)[1], v)\n",
    "            \n",
    "        return np.array(basis, float)\n",
    "    \n",
    "    return np.zeros((U.shape[0], 1))\n",
    "\n",
    "U = np.array([[1], \n",
    "              [1]])\n",
    "print(basis_orth_comp(U))\n",
    "\n",
    "U = np.array([[1, 0], \n",
    "              [0, 1]]) # orth_comp(V) = {0}, where V = U\n",
    "print(basis_orth_comp(U))\n",
    "\n",
    "U = np.array([[1, 0], [0, 1], [0, 0]]) # orth_comp(Oxy) = Oz\n",
    "print(basis_orth_comp(U))"
   ]
  },
  {
   "cell_type": "markdown",
   "metadata": {},
   "source": [
    "**(1 балл) Задание 6.** Реализовать функцию, принимающую на вход набор координат $u = (u_1,\\ldots,u_k),\\ k\\le n$ вектор-столбцов, и выдающую ортонормированный базис $$v = (v_1,\\ldots,v_m),\\ m \\ge n-k,$$\n",
    "для линейной оболочки данных векторов."
   ]
  },
  {
   "cell_type": "code",
   "execution_count": 10,
   "metadata": {},
   "outputs": [
    {
     "name": "stdout",
     "output_type": "stream",
     "text": [
      "[[-0.26726124 -0.22750788]\n",
      " [-0.53452248 -0.77352678]\n",
      " [-0.80178373  0.59152048]]\n",
      "[[ 0.26726124  0.22750788]\n",
      " [ 0.53452248  0.77352678]\n",
      " [ 0.80178373 -0.59152048]]\n",
      "0.0\n",
      "1.0\n",
      "1.0\n"
     ]
    }
   ],
   "source": [
    "def linear_indep_cols(U):\n",
    "    vs = np.array(sp.Matrix(U.T).echelon_form().T)\n",
    "    vs = vs[:, np.any(vs != 0, axis=0)]\n",
    "    return vs.astype(float)\n",
    "    \n",
    "def gram_schmidt(U):\n",
    "    k = U.shape[1]\n",
    "    for i in range(k):\n",
    "        u = U[:, i]\n",
    "        for j in range(i):\n",
    "            v = U[:, j]\n",
    "            U[:, i] -= (u @ v) / (v @ v) * v\n",
    "    return U\n",
    "\n",
    "def norm(u):\n",
    "    return u / (u @ u) ** .5\n",
    "\n",
    "def orth_basis(U):\n",
    "    bs = linear_indep_cols(U)\n",
    "    q, r = np.linalg.qr(bs)\n",
    "    print(q)\n",
    "    orth_bs = gram_schmidt(bs)\n",
    "    k = orth_bs.shape[1]\n",
    "    for i in range(k):\n",
    "        orth_bs[:, i] = norm(orth_bs[:, i])\n",
    "    return orth_bs\n",
    "\n",
    "\n",
    "U = np.array([[1, 2, 3],\n",
    "              [2, 4, 7], \n",
    "              [3, 6, 5]])\n",
    "basis = orth_basis(U)\n",
    "print(basis)\n",
    "print(np.round(basis[:, 0] @ basis[:, 1], 9))\n",
    "print(basis[:, 0] @ basis[:, 0])\n",
    "print(basis[:, 1] @ basis[:, 1])"
   ]
  },
  {
   "cell_type": "markdown",
   "metadata": {},
   "source": [
    "**(1 балл) Задание 7.** Реализовать функцию, принимающую на вход набор координат $u = (u_1,\\ldots,u_k),\\ k\\le n$ линейно независимых вектор-столбцов, и выдающую ортонормированный базис $$v = (v_1,\\ldots,v_n)$$\n",
    "всего пространства, такой что линейная оболочка векторов $(v_1,\\ldots,v_k)$ совпадает с линейной оболочкой векторов $(u_1,\\ldots,u_k)$."
   ]
  },
  {
   "cell_type": "code",
   "execution_count": 11,
   "metadata": {},
   "outputs": [
    {
     "name": "stdout",
     "output_type": "stream",
     "text": [
      "[[1. 0. 0.]\n",
      " [0. 1. 0.]\n",
      " [0. 0. 1.]]\n",
      "[[ 0.26726124  0.22750788 -0.93638218]\n",
      " [ 0.53452248  0.77352678  0.34050261]\n",
      " [ 0.80178373 -0.59152048  0.08512565]]\n",
      "0.0\n",
      "0.0\n",
      "0.0\n",
      "1.0\n",
      "1.0\n",
      "1.0\n"
     ]
    }
   ],
   "source": [
    "def orth_basis_V(U):\n",
    "    U = np.float_(U)\n",
    "    bs = gram_schmidt(U)\n",
    "    n, k = bs.shape[0], bs.shape[1]\n",
    "    for i in range(n - k):\n",
    "        ocomp_bs = basis_orth_comp(bs)\n",
    "        bs = np.c_[bs, ocomp_bs[:, 0]]\n",
    "    \n",
    "    for i in range(n):\n",
    "        bs[:, i] = norm(bs[:, i])\n",
    "    return bs\n",
    "\n",
    "\n",
    "U = np.array([[1],\n",
    "              [0], \n",
    "              [0]])\n",
    "\n",
    "print(orth_basis_V(U))\n",
    "\n",
    "\n",
    "U = np.array([[1, 3],\n",
    "              [2, 7], \n",
    "              [3, 5]])\n",
    "\n",
    "basis_V = orth_basis_V(U)\n",
    "\n",
    "print(basis_V)\n",
    "print(np.round(basis_V[:, 0] @ basis_V[:, 1], 9))\n",
    "print(np.round(basis_V[:, 0] @ basis_V[:, 2], 9))\n",
    "print(np.round(basis_V[:, 1] @ basis_V[:, 2], 9))\n",
    "print(np.round(basis_V[:, 0] @ basis_V[:, 0], 9))\n",
    "print(np.round(basis_V[:, 1] @ basis_V[:, 1], 9))\n",
    "print(np.round(basis_V[:, 2] @ basis_V[:, 2], 9))"
   ]
  }
 ],
 "metadata": {
  "celltoolbar": "Create Assignment",
  "kernelspec": {
   "display_name": "Python 3",
   "language": "python",
   "name": "python3"
  },
  "language_info": {
   "codemirror_mode": {
    "name": "ipython",
    "version": 3
   },
   "file_extension": ".py",
   "mimetype": "text/x-python",
   "name": "python",
   "nbconvert_exporter": "python",
   "pygments_lexer": "ipython3",
   "version": "3.8.5"
  },
  "toc": {
   "base_numbering": 1,
   "nav_menu": {},
   "number_sections": true,
   "sideBar": true,
   "skip_h1_title": false,
   "title_cell": "Table of Contents",
   "title_sidebar": "Contents",
   "toc_cell": false,
   "toc_position": {},
   "toc_section_display": true,
   "toc_window_display": false
  }
 },
 "nbformat": 4,
 "nbformat_minor": 4
}
